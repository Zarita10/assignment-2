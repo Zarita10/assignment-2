{
  "nbformat": 4,
  "nbformat_minor": 0,
  "metadata": {
    "colab": {
      "provenance": []
    },
    "kernelspec": {
      "name": "python3",
      "display_name": "Python 3"
    },
    "language_info": {
      "name": "python"
    }
  },
  "cells": [
    {
      "cell_type": "markdown",
      "source": [
        "1. What are the two values of the Boolean data type? How do you write them?\n",
        " - 2 types : True and flase\n",
        "2. What are the three different types of Boolean operators?\n",
        " - AND , OR, NOT \n",
        "3. Make a list of each Boolean operator's truth tables (i.e. every possible combination of Boolean values for the operator and what it evaluate ).\n",
        "- True and True = True\n",
        "- True and Flase = Flase \n",
        "- Flase and True = Flase\n",
        "- True or True = True\n",
        "- False or True = True \n",
        "- True and True = True\n",
        "- not True = Flase\n",
        "- not Flase= True \n"
      ],
      "metadata": {
        "id": "Qh5ekh0Vro6D"
      }
    },
    {
      "cell_type": "code",
      "source": [
        "#Q4. What are the values of the following expressions?\n",
        "print((5>4) and (3==5))\n",
        "print(not(5>4))\n",
        "print((5>4) or (3==5))\n",
        "print(not(5>4) or (3==5))\n",
        "print((True and True) and (True==False))\n",
        "print((not(False))or(not(True)))"
      ],
      "metadata": {
        "colab": {
          "base_uri": "https://localhost:8080/"
        },
        "id": "3-w7lM3RtYMU",
        "outputId": "874caede-6b8d-4148-e1a3-baba384604da"
      },
      "execution_count": 11,
      "outputs": [
        {
          "output_type": "stream",
          "name": "stdout",
          "text": [
            "False\n",
            "False\n",
            "True\n",
            "False\n",
            "False\n",
            "True\n"
          ]
        }
      ]
    },
    {
      "cell_type": "markdown",
      "source": [
        "5. What are the six comparison operators?\n",
        "- ==,!=,<,>,<=,>=\n",
        "\n",
        "6. How do you tell the difference between the equal to and assignment operators?Describe a condition and when you would use one.\n",
        "- == is the equal to operator which compares two values and evaluates to a Boolean, while = is the assignment operator that stores a value in a variable.\n"
      ],
      "metadata": {
        "id": "7QcJVByCwnw9"
      }
    },
    {
      "cell_type": "code",
      "source": [
        "#== oparator\n",
        "if (1==2):\n",
        "  print(\"True\")\n",
        "else :\n",
        "  print(\"false\")\n",
        "\n",
        "# = as variable \n",
        "A=\"nabila\" \n",
        "print(f\"{A}\")\n"
      ],
      "metadata": {
        "colab": {
          "base_uri": "https://localhost:8080/"
        },
        "id": "lbHUsDFBxPXt",
        "outputId": "d45ba37b-361b-4db1-9861-20203836d407"
      },
      "execution_count": 18,
      "outputs": [
        {
          "output_type": "stream",
          "name": "stdout",
          "text": [
            "false\n",
            "nabila\n"
          ]
        }
      ]
    },
    {
      "cell_type": "code",
      "source": [
        "#7. Identify the three blocks in this code:\n",
        "spam = 0\n",
        "if spam == 10:\n",
        "  print('eggs') #block1\n",
        "if spam > 5:\n",
        "  print('bacon') #block2\n",
        "else:\n",
        "  print('ham') #block3\n",
        "  print('spam')\n",
        "  print('spam')\n",
        "\n"
      ],
      "metadata": {
        "colab": {
          "base_uri": "https://localhost:8080/"
        },
        "id": "_PucqkQpyaLM",
        "outputId": "02d6db5e-42e0-41f2-cffb-5583814ec652"
      },
      "execution_count": 23,
      "outputs": [
        {
          "output_type": "stream",
          "name": "stdout",
          "text": [
            "ham\n",
            "spam\n",
            "spam\n"
          ]
        }
      ]
    },
    {
      "cell_type": "code",
      "source": [
        "#8. Write code that prints Hello if 1 is stored in spam, prints Howdy if 2 is stored in spam, and prints Greetings! if anything else is stored in spam.\n",
        "spam= int(input(\"input a no: \"))\n",
        "if spam ==1 :\n",
        "  print (\"Hello\")\n",
        "elif spam ==2 : \n",
        "  print(\"Hawdy\")\n",
        "else :\n",
        "  print (\"greetings\")"
      ],
      "metadata": {
        "colab": {
          "base_uri": "https://localhost:8080/"
        },
        "id": "cSGF6sMgzFB6",
        "outputId": "a582b3b4-eb2e-46a6-c973-67e2352ea6c9"
      },
      "execution_count": 29,
      "outputs": [
        {
          "output_type": "stream",
          "name": "stdout",
          "text": [
            "input a no: 1\n",
            "Hello\n"
          ]
        }
      ]
    },
    {
      "cell_type": "markdown",
      "source": [
        "9.If your programme is stuck in an endless loop, what keys you’ll press?\n",
        "- ctrl+c\n"
      ],
      "metadata": {
        "id": "DVOgb5d10xeq"
      }
    },
    {
      "cell_type": "code",
      "source": [
        "#10. How can you tell the difference between break and continue?\n",
        "#break \n",
        "for i in range (20):\n",
        "   if i==10:\n",
        "      break \n",
        "   print(i)\n",
        "\n",
        "#continue \n",
        "for i in range (20):\n",
        "   if i==10:\n",
        "      continue \n",
        "   print(i)"
      ],
      "metadata": {
        "colab": {
          "base_uri": "https://localhost:8080/"
        },
        "id": "Zwdu5n5A13vv",
        "outputId": "ea4653b2-651e-4258-92b3-394dc4dae130"
      },
      "execution_count": 40,
      "outputs": [
        {
          "output_type": "stream",
          "name": "stdout",
          "text": [
            "0\n",
            "1\n",
            "2\n",
            "3\n",
            "4\n",
            "5\n",
            "6\n",
            "7\n",
            "8\n",
            "9\n",
            "0\n",
            "1\n",
            "2\n",
            "3\n",
            "4\n",
            "5\n",
            "6\n",
            "7\n",
            "8\n",
            "9\n",
            "11\n",
            "12\n",
            "13\n",
            "14\n",
            "15\n",
            "16\n",
            "17\n",
            "18\n",
            "19\n"
          ]
        }
      ]
    },
    {
      "cell_type": "markdown",
      "source": [
        "11. In a for loop, what is the difference between range(10), range(0, 10), and range(0, 10, 1)?\n",
        "-All will show same result from 0 to 9. \n",
        "range(10)-starts from 0 to 9 (10 is not included)\n",
        "range(0,10)-stats from 0 to 9 (10 is not included)\n",
        "range(0,10,1)-starte from 0 to 9 increment bt 1"
      ],
      "metadata": {
        "id": "1qJR_ffm3EYD"
      }
    },
    {
      "cell_type": "code",
      "source": [
        "#12. Write a short program that prints the numbers 1 to 10 using a for loop. Then write an equivalent program that prints the numbers 1 to 10 using a while loop.\n",
        "# for loop \n",
        "for i in range (1,11): \n",
        "  print(i)\n",
        "#WHILE LOOP \n",
        "i=1\n",
        "while i<=10 :\n",
        "  print (i)\n",
        "  i+=1"
      ],
      "metadata": {
        "colab": {
          "base_uri": "https://localhost:8080/"
        },
        "id": "PNk085FX4wUa",
        "outputId": "e82fadd5-57cc-4405-9719-7b61b678517f"
      },
      "execution_count": 43,
      "outputs": [
        {
          "output_type": "stream",
          "name": "stdout",
          "text": [
            "1\n",
            "2\n",
            "3\n",
            "4\n",
            "5\n",
            "6\n",
            "7\n",
            "8\n",
            "9\n",
            "10\n",
            "1\n",
            "2\n",
            "3\n",
            "4\n",
            "5\n",
            "6\n",
            "7\n",
            "8\n",
            "9\n",
            "10\n"
          ]
        }
      ]
    },
    {
      "cell_type": "markdown",
      "source": [
        "#13. If you had a function named bacon() inside a module named spam, how would you call it after importing spam?\n",
        "- spam.bacon()"
      ],
      "metadata": {
        "id": "nEzDx5sQ563E"
      }
    }
  ]
}